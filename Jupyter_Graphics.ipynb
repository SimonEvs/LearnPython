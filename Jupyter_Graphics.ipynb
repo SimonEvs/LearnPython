{
 "cells": [
  {
   "cell_type": "markdown",
   "id": "c2c6d659",
   "metadata": {},
   "source": [
    "Дана функция f(x) = 5x^2 + 10x - 30\n",
    "\n",
    "1. Определить корни\n",
    "\n",
    "2. Найти интервалы, на которых функция возрастает\n",
    "\n",
    "3. Найти интервалы, на которых функция убывает\n",
    "\n",
    "4. Построить график\n",
    "\n",
    "5. Вычислить вершину\n",
    "\n",
    "6. Определить промежутки, на котором f > 0\n",
    "\n",
    "7. Определить промежутки, на котором f < 0"
   ]
  },
  {
   "cell_type": "code",
   "execution_count": null,
   "id": "eac8a6dd",
   "metadata": {},
   "outputs": [],
   "source": [
    "import sympy \n",
    "from sympy import is_decreasing, is_increasing\n",
    "from sympy sympy.abc import x, y\n",
    "from sympy import S,Interval, oo"
   ]
  },
  {
   "cell_type": "markdown",
   "id": "098e87e1",
   "metadata": {},
   "source": [
    "1. Определить корни\n"
   ]
  },
  {
   "cell_type": "code",
   "execution_count": null,
   "id": "55da4ee1",
   "metadata": {},
   "outputs": [],
   "source": [
    "x=sympy.symbols('x')\n",
    "ans=sympy.solve(5*(x**2)+10*x-30)\n",
    "ans"
   ]
  },
  {
   "cell_type": "markdown",
   "id": "553712f9",
   "metadata": {},
   "source": [
    "2. Найти интервалы, на которых функция возрастает"
   ]
  },
  {
   "cell_type": "code",
   "execution_count": null,
   "id": "9609ee0d",
   "metadata": {},
   "outputs": [],
   "source": [
    "is_increasing(5*(x**2)+10*x-30, Interval.open(-1,oo))"
   ]
  },
  {
   "cell_type": "markdown",
   "id": "be4a8dc0",
   "metadata": {},
   "source": [
    "3. Найти интервалы, на которых функция убывает"
   ]
  },
  {
   "cell_type": "code",
   "execution_count": null,
   "id": "d3c16ffc",
   "metadata": {},
   "outputs": [],
   "source": [
    "is_decreasing(5*(x**2)+10*x-30, Interval.open(-oo,-1))"
   ]
  },
  {
   "cell_type": "markdown",
   "id": "1abec69b",
   "metadata": {},
   "source": [
    "4. Построить график"
   ]
  },
  {
   "cell_type": "code",
   "execution_count": 3,
   "id": "1833723d",
   "metadata": {},
   "outputs": [
    {
     "data": {
      "image/png": "[encoded data removed]",
      "text/plain": [
       "<Figure size 864x864 with 1 Axes>"
      ]
     },
     "metadata": {
      "needs_background": "light"
     },
     "output_type": "display_data"
    }
   ],
   "source": [
    "import matplotlib.pyplot as plt\n",
    "\n",
    "x=[(5*(x**2)+10*x-30) for x in range(-10,11)]\n",
    "y=[y for y in range(-10,11)]\n",
    "\n",
    "fig=plt.figure()\n",
    "\n",
    "ax_3=fig.add_subplot(2,2,4)\n",
    "\n",
    "ax_3.plot(y,x)\n",
    "ax_3.grid(axis='both')\n",
    "ax_3.set_title(\"grafik\")\n",
    "\n",
    "fig.set_figwidth(12)\n",
    "fig.set_figheight(12)\n",
    "\n",
    "plt.show()"
   ]
  },
  {
   "cell_type": "markdown",
   "id": "bb7710bf",
   "metadata": {},
   "source": [
    "5. Вычислить вершину\n"
   ]
  },
  {
   "cell_type": "code",
   "execution_count": null,
   "id": "285115ba",
   "metadata": {},
   "outputs": [],
   "source": [
    "from sympy import Interval, Symbol, minimum, S\n",
    "minimum(5*(x**2)+10*x-30, x, S.Reals)"
   ]
  },
  {
   "cell_type": "markdown",
   "id": "18846002",
   "metadata": {},
   "source": [
    "\n",
    "6. Определить промежутки, на котором f > 0\n",
    "\n",
    "7. Определить промежутки, на котором f < 0"
   ]
  },
  {
   "cell_type": "code",
   "execution_count": 5,
   "id": "269de143",
   "metadata": {},
   "outputs": [
    {
     "name": "stdout",
     "output_type": "stream",
     "text": [
      "  -10 - 370\n",
      "-9.75 - 347.8125\n",
      " -9.5 - 326.25\n",
      "-9.25 - 305.3125\n",
      " -9.0 - 285.0\n",
      "-8.75 - 265.3125\n",
      " -8.5 - 246.25\n",
      "-8.25 - 227.8125\n",
      " -8.0 - 210.0\n",
      "-7.75 - 192.8125\n",
      " -7.5 - 176.25\n",
      "-7.25 - 160.3125\n",
      " -7.0 - 145.0\n",
      "-6.75 - 130.3125\n",
      " -6.5 - 116.25\n",
      "-6.25 - 102.8125\n",
      " -6.0 - 90.0\n",
      "-5.75 - 77.8125\n",
      " -5.5 - 66.25\n",
      "-5.25 - 55.3125\n",
      " -5.0 - 45.0\n",
      "-4.75 - 35.3125\n",
      " -4.5 - 26.25\n",
      "-4.25 - 17.8125\n",
      " -4.0 - 10.0\n",
      "-3.75 - 2.8125\n",
      " -3.5 - -3.75\n",
      "-3.25 - -9.6875\n",
      " -3.0 - -15.0\n",
      "-2.75 - -19.6875\n",
      " -2.5 - -23.75\n",
      "-2.25 - -27.1875\n",
      " -2.0 - -30.0\n",
      "-1.75 - -32.1875\n",
      " -1.5 - -33.75\n",
      "-1.25 - -34.6875\n",
      " -1.0 - -35.0\n",
      "-0.75 - -34.6875\n",
      " -0.5 - -33.75\n",
      "-0.25 - -32.1875\n",
      "  0.0 - -30.0\n",
      " 0.25 - -27.1875\n",
      "  0.5 - -23.75\n",
      " 0.75 - -19.6875\n",
      "  1.0 - -15.0\n",
      " 1.25 - -9.6875\n",
      "  1.5 - -3.75\n",
      " 1.75 - 2.8125\n",
      "  2.0 - 10.0\n",
      " 2.25 - 17.8125\n",
      "  2.5 - 26.25\n",
      " 2.75 - 35.3125\n",
      "  3.0 - 45.0\n",
      " 3.25 - 55.3125\n",
      "  3.5 - 66.25\n",
      " 3.75 - 77.8125\n",
      "  4.0 - 90.0\n",
      " 4.25 - 102.8125\n",
      "  4.5 - 116.25\n",
      " 4.75 - 130.3125\n",
      "  5.0 - 145.0\n",
      " 5.25 - 160.3125\n",
      "  5.5 - 176.25\n",
      " 5.75 - 192.8125\n",
      "  6.0 - 210.0\n",
      " 6.25 - 227.8125\n",
      "  6.5 - 246.25\n",
      " 6.75 - 265.3125\n",
      "  7.0 - 285.0\n",
      " 7.25 - 305.3125\n",
      "  7.5 - 326.25\n",
      " 7.75 - 347.8125\n",
      "  8.0 - 370.0\n",
      " 8.25 - 392.8125\n",
      "  8.5 - 416.25\n",
      " 8.75 - 440.3125\n",
      "  9.0 - 465.0\n",
      " 9.25 - 490.3125\n",
      "  9.5 - 516.25\n",
      " 9.75 - 542.8125\n"
     ]
    }
   ],
   "source": [
    "i=-5\n",
    "while i<5:\n",
    "    res=5*(i**2)+10*i-30\n",
    "    print(f'{i:5} - {res}')\n",
    "    i+=0.25"
   ]
  },
  {
   "cell_type": "code",
   "execution_count": null,
   "id": "c6754729",
   "metadata": {},
   "outputs": [],
   "source": []
  }
 ],
 "metadata": {
  "kernelspec": {
   "display_name": "Python 3 (ipykernel)",
   "language": "python",
   "name": "python3"
  },
  "language_info": {
   "codemirror_mode": {
    "name": "ipython",
    "version": 3
   },
   "file_extension": ".py",
   "mimetype": "text/x-python",
   "name": "python",
   "nbconvert_exporter": "python",
   "pygments_lexer": "ipython3",
   "version": "3.9.12"
  }
 },
 "nbformat": 4,
 "nbformat_minor": 5
}
